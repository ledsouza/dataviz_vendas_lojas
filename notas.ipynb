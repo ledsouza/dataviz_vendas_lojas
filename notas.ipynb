{
 "cells": [
  {
   "cell_type": "code",
   "execution_count": 1,
   "metadata": {},
   "outputs": [],
   "source": [
    "import pandas as pd\n",
    "import plotly.express as px"
   ]
  },
  {
   "cell_type": "code",
   "execution_count": 2,
   "metadata": {},
   "outputs": [
    {
     "data": {
      "text/html": [
       "<div>\n",
       "<style scoped>\n",
       "    .dataframe tbody tr th:only-of-type {\n",
       "        vertical-align: middle;\n",
       "    }\n",
       "\n",
       "    .dataframe tbody tr th {\n",
       "        vertical-align: top;\n",
       "    }\n",
       "\n",
       "    .dataframe thead th {\n",
       "        text-align: right;\n",
       "    }\n",
       "</style>\n",
       "<table border=\"1\" class=\"dataframe\">\n",
       "  <thead>\n",
       "    <tr style=\"text-align: right;\">\n",
       "      <th></th>\n",
       "      <th>Turma</th>\n",
       "      <th>Nota</th>\n",
       "    </tr>\n",
       "  </thead>\n",
       "  <tbody>\n",
       "    <tr>\n",
       "      <th>0</th>\n",
       "      <td>Turma 1</td>\n",
       "      <td>79</td>\n",
       "    </tr>\n",
       "    <tr>\n",
       "      <th>1</th>\n",
       "      <td>Turma 1</td>\n",
       "      <td>73</td>\n",
       "    </tr>\n",
       "    <tr>\n",
       "      <th>2</th>\n",
       "      <td>Turma 1</td>\n",
       "      <td>80</td>\n",
       "    </tr>\n",
       "    <tr>\n",
       "      <th>3</th>\n",
       "      <td>Turma 1</td>\n",
       "      <td>88</td>\n",
       "    </tr>\n",
       "    <tr>\n",
       "      <th>4</th>\n",
       "      <td>Turma 1</td>\n",
       "      <td>72</td>\n",
       "    </tr>\n",
       "  </tbody>\n",
       "</table>\n",
       "</div>"
      ],
      "text/plain": [
       "     Turma  Nota\n",
       "0  Turma 1    79\n",
       "1  Turma 1    73\n",
       "2  Turma 1    80\n",
       "3  Turma 1    88\n",
       "4  Turma 1    72"
      ]
     },
     "execution_count": 2,
     "metadata": {},
     "output_type": "execute_result"
    }
   ],
   "source": [
    "df = pd.read_csv('dados/notas.csv')\n",
    "df.head()"
   ]
  },
  {
   "cell_type": "code",
   "execution_count": 35,
   "metadata": {},
   "outputs": [
    {
     "name": "stdout",
     "output_type": "stream",
     "text": [
      "<class 'pandas.core.frame.DataFrame'>\n",
      "RangeIndex: 300 entries, 0 to 299\n",
      "Data columns (total 2 columns):\n",
      " #   Column  Non-Null Count  Dtype \n",
      "---  ------  --------------  ----- \n",
      " 0   Turma   300 non-null    object\n",
      " 1   Nota    300 non-null    int64 \n",
      "dtypes: int64(1), object(1)\n",
      "memory usage: 4.8+ KB\n"
     ]
    }
   ],
   "source": [
    "df.info()"
   ]
  },
  {
   "cell_type": "code",
   "execution_count": 47,
   "metadata": {},
   "outputs": [
    {
     "data": {
      "application/vnd.plotly.v1+json": {
       "config": {
        "plotlyServerURL": "https://plot.ly"
       },
       "data": [
        {
         "alignmentgroup": "True",
         "box": {
          "visible": true
         },
         "hovertemplate": "Turma=%{x}<br>Nota=%{y}<extra></extra>",
         "legendgroup": "Turma 1",
         "marker": {
          "color": "#636efa"
         },
         "name": "Turma 1",
         "offsetgroup": "Turma 1",
         "orientation": "v",
         "scalegroup": "True",
         "showlegend": true,
         "type": "violin",
         "x": [
          "Turma 1",
          "Turma 1",
          "Turma 1",
          "Turma 1",
          "Turma 1",
          "Turma 1",
          "Turma 1",
          "Turma 1",
          "Turma 1",
          "Turma 1",
          "Turma 1",
          "Turma 1",
          "Turma 1",
          "Turma 1",
          "Turma 1",
          "Turma 1",
          "Turma 1",
          "Turma 1",
          "Turma 1",
          "Turma 1",
          "Turma 1",
          "Turma 1",
          "Turma 1",
          "Turma 1",
          "Turma 1",
          "Turma 1",
          "Turma 1",
          "Turma 1",
          "Turma 1",
          "Turma 1",
          "Turma 1",
          "Turma 1",
          "Turma 1",
          "Turma 1",
          "Turma 1",
          "Turma 1",
          "Turma 1",
          "Turma 1",
          "Turma 1",
          "Turma 1",
          "Turma 1",
          "Turma 1",
          "Turma 1",
          "Turma 1",
          "Turma 1",
          "Turma 1",
          "Turma 1",
          "Turma 1",
          "Turma 1",
          "Turma 1",
          "Turma 1",
          "Turma 1",
          "Turma 1",
          "Turma 1",
          "Turma 1",
          "Turma 1",
          "Turma 1",
          "Turma 1",
          "Turma 1",
          "Turma 1",
          "Turma 1",
          "Turma 1",
          "Turma 1",
          "Turma 1",
          "Turma 1",
          "Turma 1",
          "Turma 1",
          "Turma 1",
          "Turma 1",
          "Turma 1",
          "Turma 1",
          "Turma 1",
          "Turma 1",
          "Turma 1",
          "Turma 1",
          "Turma 1",
          "Turma 1",
          "Turma 1",
          "Turma 1",
          "Turma 1",
          "Turma 1",
          "Turma 1",
          "Turma 1",
          "Turma 1",
          "Turma 1",
          "Turma 1",
          "Turma 1",
          "Turma 1",
          "Turma 1",
          "Turma 1",
          "Turma 1",
          "Turma 1",
          "Turma 1",
          "Turma 1",
          "Turma 1",
          "Turma 1",
          "Turma 1",
          "Turma 1",
          "Turma 1",
          "Turma 1"
         ],
         "x0": " ",
         "xaxis": "x",
         "y": [
          79,
          73,
          80,
          88,
          72,
          72,
          89,
          81,
          70,
          79,
          70,
          70,
          77,
          57,
          59,
          69,
          65,
          77,
          66,
          62,
          88,
          72,
          75,
          62,
          70,
          75,
          64,
          78,
          69,
          72,
          69,
          91,
          74,
          65,
          82,
          64,
          76,
          57,
          63,
          76,
          81,
          76,
          73,
          72,
          61,
          68,
          70,
          84,
          78,
          59,
          77,
          71,
          68,
          80,
          84,
          83,
          67,
          72,
          77,
          83,
          70,
          73,
          65,
          64,
          82,
          87,
          74,
          84,
          78,
          69,
          78,
          88,
          74,
          89,
          51,
          82,
          75,
          72,
          75,
          57,
          73,
          78,
          88,
          70,
          67,
          70,
          83,
          77,
          70,
          79,
          75,
          83,
          68,
          72,
          71,
          61,
          77,
          77,
          75,
          72
         ],
         "y0": " ",
         "yaxis": "y"
        },
        {
         "alignmentgroup": "True",
         "box": {
          "visible": true
         },
         "hovertemplate": "Turma=%{x}<br>Nota=%{y}<extra></extra>",
         "legendgroup": "Turma 2",
         "marker": {
          "color": "#EF553B"
         },
         "name": "Turma 2",
         "offsetgroup": "Turma 2",
         "orientation": "v",
         "scalegroup": "True",
         "showlegend": true,
         "type": "violin",
         "x": [
          "Turma 2",
          "Turma 2",
          "Turma 2",
          "Turma 2",
          "Turma 2",
          "Turma 2",
          "Turma 2",
          "Turma 2",
          "Turma 2",
          "Turma 2",
          "Turma 2",
          "Turma 2",
          "Turma 2",
          "Turma 2",
          "Turma 2",
          "Turma 2",
          "Turma 2",
          "Turma 2",
          "Turma 2",
          "Turma 2",
          "Turma 2",
          "Turma 2",
          "Turma 2",
          "Turma 2",
          "Turma 2",
          "Turma 2",
          "Turma 2",
          "Turma 2",
          "Turma 2",
          "Turma 2",
          "Turma 2",
          "Turma 2",
          "Turma 2",
          "Turma 2",
          "Turma 2",
          "Turma 2",
          "Turma 2",
          "Turma 2",
          "Turma 2",
          "Turma 2",
          "Turma 2",
          "Turma 2",
          "Turma 2",
          "Turma 2",
          "Turma 2",
          "Turma 2",
          "Turma 2",
          "Turma 2",
          "Turma 2",
          "Turma 2",
          "Turma 2",
          "Turma 2",
          "Turma 2",
          "Turma 2",
          "Turma 2",
          "Turma 2",
          "Turma 2",
          "Turma 2",
          "Turma 2",
          "Turma 2",
          "Turma 2",
          "Turma 2",
          "Turma 2",
          "Turma 2",
          "Turma 2",
          "Turma 2",
          "Turma 2",
          "Turma 2",
          "Turma 2",
          "Turma 2",
          "Turma 2",
          "Turma 2",
          "Turma 2",
          "Turma 2",
          "Turma 2",
          "Turma 2",
          "Turma 2",
          "Turma 2",
          "Turma 2",
          "Turma 2",
          "Turma 2",
          "Turma 2",
          "Turma 2",
          "Turma 2",
          "Turma 2",
          "Turma 2",
          "Turma 2",
          "Turma 2",
          "Turma 2",
          "Turma 2",
          "Turma 2",
          "Turma 2",
          "Turma 2",
          "Turma 2",
          "Turma 2",
          "Turma 2",
          "Turma 2",
          "Turma 2",
          "Turma 2",
          "Turma 2"
         ],
         "x0": " ",
         "xaxis": "x",
         "y": [
          72,
          77,
          78,
          75,
          79,
          82,
          89,
          80,
          81,
          79,
          70,
          79,
          80,
          92,
          79,
          81,
          79,
          74,
          85,
          83,
          83,
          75,
          87,
          72,
          82,
          90,
          75,
          77,
          80,
          77,
          72,
          80,
          74,
          82,
          75,
          87,
          76,
          78,
          84,
          73,
          81,
          86,
          71,
          80,
          81,
          83,
          73,
          73,
          82,
          81,
          81,
          81,
          76,
          81,
          81,
          76,
          89,
          82,
          74,
          83,
          75,
          83,
          85,
          75,
          84,
          82,
          84,
          89,
          78,
          76,
          75,
          75,
          79,
          81,
          81,
          84,
          80,
          87,
          78,
          93,
          83,
          75,
          74,
          82,
          78,
          83,
          82,
          79,
          75,
          72,
          77,
          84,
          81,
          73,
          80,
          81,
          75,
          80,
          80,
          74
         ],
         "y0": " ",
         "yaxis": "y"
        },
        {
         "alignmentgroup": "True",
         "box": {
          "visible": true
         },
         "hovertemplate": "Turma=%{x}<br>Nota=%{y}<extra></extra>",
         "legendgroup": "Turma 3",
         "marker": {
          "color": "#00cc96"
         },
         "name": "Turma 3",
         "offsetgroup": "Turma 3",
         "orientation": "v",
         "scalegroup": "True",
         "showlegend": true,
         "type": "violin",
         "x": [
          "Turma 3",
          "Turma 3",
          "Turma 3",
          "Turma 3",
          "Turma 3",
          "Turma 3",
          "Turma 3",
          "Turma 3",
          "Turma 3",
          "Turma 3",
          "Turma 3",
          "Turma 3",
          "Turma 3",
          "Turma 3",
          "Turma 3",
          "Turma 3",
          "Turma 3",
          "Turma 3",
          "Turma 3",
          "Turma 3",
          "Turma 3",
          "Turma 3",
          "Turma 3",
          "Turma 3",
          "Turma 3",
          "Turma 3",
          "Turma 3",
          "Turma 3",
          "Turma 3",
          "Turma 3",
          "Turma 3",
          "Turma 3",
          "Turma 3",
          "Turma 3",
          "Turma 3",
          "Turma 3",
          "Turma 3",
          "Turma 3",
          "Turma 3",
          "Turma 3",
          "Turma 3",
          "Turma 3",
          "Turma 3",
          "Turma 3",
          "Turma 3",
          "Turma 3",
          "Turma 3",
          "Turma 3",
          "Turma 3",
          "Turma 3",
          "Turma 3",
          "Turma 3",
          "Turma 3",
          "Turma 3",
          "Turma 3",
          "Turma 3",
          "Turma 3",
          "Turma 3",
          "Turma 3",
          "Turma 3",
          "Turma 3",
          "Turma 3",
          "Turma 3",
          "Turma 3",
          "Turma 3",
          "Turma 3",
          "Turma 3",
          "Turma 3",
          "Turma 3",
          "Turma 3",
          "Turma 3",
          "Turma 3",
          "Turma 3",
          "Turma 3",
          "Turma 3",
          "Turma 3",
          "Turma 3",
          "Turma 3",
          "Turma 3",
          "Turma 3",
          "Turma 3",
          "Turma 3",
          "Turma 3",
          "Turma 3",
          "Turma 3",
          "Turma 3",
          "Turma 3",
          "Turma 3",
          "Turma 3",
          "Turma 3",
          "Turma 3",
          "Turma 3",
          "Turma 3",
          "Turma 3",
          "Turma 3",
          "Turma 3",
          "Turma 3",
          "Turma 3",
          "Turma 3",
          "Turma 3"
         ],
         "x0": " ",
         "xaxis": "x",
         "y": [
          72,
          73,
          76,
          76,
          61,
          64,
          73,
          73,
          73,
          93,
          73,
          76,
          75,
          73,
          68,
          74,
          65,
          68,
          67,
          70,
          83,
          58,
          74,
          60,
          67,
          76,
          70,
          63,
          65,
          74,
          65,
          71,
          70,
          66,
          82,
          73,
          57,
          71,
          66,
          75,
          65,
          69,
          73,
          75,
          62,
          67,
          67,
          66,
          80,
          72,
          62,
          75,
          82,
          76,
          60,
          67,
          77,
          65,
          72,
          74,
          64,
          69,
          50,
          63,
          68,
          62,
          79,
          61,
          67,
          70,
          78,
          61,
          76,
          70,
          64,
          72,
          71,
          66,
          70,
          67,
          70,
          73,
          79,
          62,
          82,
          58,
          69,
          73,
          71,
          66,
          68,
          67,
          66,
          75,
          72,
          65,
          75,
          71,
          74,
          73
         ],
         "y0": " ",
         "yaxis": "y"
        }
       ],
       "layout": {
        "height": 400,
        "legend": {
         "title": {
          "text": "Turma"
         },
         "tracegroupgap": 0
        },
        "margin": {
         "t": 60
        },
        "showlegend": false,
        "template": {
         "data": {
          "bar": [
           {
            "error_x": {
             "color": "#2a3f5f"
            },
            "error_y": {
             "color": "#2a3f5f"
            },
            "marker": {
             "line": {
              "color": "#E5ECF6",
              "width": 0.5
             },
             "pattern": {
              "fillmode": "overlay",
              "size": 10,
              "solidity": 0.2
             }
            },
            "type": "bar"
           }
          ],
          "barpolar": [
           {
            "marker": {
             "line": {
              "color": "#E5ECF6",
              "width": 0.5
             },
             "pattern": {
              "fillmode": "overlay",
              "size": 10,
              "solidity": 0.2
             }
            },
            "type": "barpolar"
           }
          ],
          "carpet": [
           {
            "aaxis": {
             "endlinecolor": "#2a3f5f",
             "gridcolor": "white",
             "linecolor": "white",
             "minorgridcolor": "white",
             "startlinecolor": "#2a3f5f"
            },
            "baxis": {
             "endlinecolor": "#2a3f5f",
             "gridcolor": "white",
             "linecolor": "white",
             "minorgridcolor": "white",
             "startlinecolor": "#2a3f5f"
            },
            "type": "carpet"
           }
          ],
          "choropleth": [
           {
            "colorbar": {
             "outlinewidth": 0,
             "ticks": ""
            },
            "type": "choropleth"
           }
          ],
          "contour": [
           {
            "colorbar": {
             "outlinewidth": 0,
             "ticks": ""
            },
            "colorscale": [
             [
              0,
              "#0d0887"
             ],
             [
              0.1111111111111111,
              "#46039f"
             ],
             [
              0.2222222222222222,
              "#7201a8"
             ],
             [
              0.3333333333333333,
              "#9c179e"
             ],
             [
              0.4444444444444444,
              "#bd3786"
             ],
             [
              0.5555555555555556,
              "#d8576b"
             ],
             [
              0.6666666666666666,
              "#ed7953"
             ],
             [
              0.7777777777777778,
              "#fb9f3a"
             ],
             [
              0.8888888888888888,
              "#fdca26"
             ],
             [
              1,
              "#f0f921"
             ]
            ],
            "type": "contour"
           }
          ],
          "contourcarpet": [
           {
            "colorbar": {
             "outlinewidth": 0,
             "ticks": ""
            },
            "type": "contourcarpet"
           }
          ],
          "heatmap": [
           {
            "colorbar": {
             "outlinewidth": 0,
             "ticks": ""
            },
            "colorscale": [
             [
              0,
              "#0d0887"
             ],
             [
              0.1111111111111111,
              "#46039f"
             ],
             [
              0.2222222222222222,
              "#7201a8"
             ],
             [
              0.3333333333333333,
              "#9c179e"
             ],
             [
              0.4444444444444444,
              "#bd3786"
             ],
             [
              0.5555555555555556,
              "#d8576b"
             ],
             [
              0.6666666666666666,
              "#ed7953"
             ],
             [
              0.7777777777777778,
              "#fb9f3a"
             ],
             [
              0.8888888888888888,
              "#fdca26"
             ],
             [
              1,
              "#f0f921"
             ]
            ],
            "type": "heatmap"
           }
          ],
          "heatmapgl": [
           {
            "colorbar": {
             "outlinewidth": 0,
             "ticks": ""
            },
            "colorscale": [
             [
              0,
              "#0d0887"
             ],
             [
              0.1111111111111111,
              "#46039f"
             ],
             [
              0.2222222222222222,
              "#7201a8"
             ],
             [
              0.3333333333333333,
              "#9c179e"
             ],
             [
              0.4444444444444444,
              "#bd3786"
             ],
             [
              0.5555555555555556,
              "#d8576b"
             ],
             [
              0.6666666666666666,
              "#ed7953"
             ],
             [
              0.7777777777777778,
              "#fb9f3a"
             ],
             [
              0.8888888888888888,
              "#fdca26"
             ],
             [
              1,
              "#f0f921"
             ]
            ],
            "type": "heatmapgl"
           }
          ],
          "histogram": [
           {
            "marker": {
             "pattern": {
              "fillmode": "overlay",
              "size": 10,
              "solidity": 0.2
             }
            },
            "type": "histogram"
           }
          ],
          "histogram2d": [
           {
            "colorbar": {
             "outlinewidth": 0,
             "ticks": ""
            },
            "colorscale": [
             [
              0,
              "#0d0887"
             ],
             [
              0.1111111111111111,
              "#46039f"
             ],
             [
              0.2222222222222222,
              "#7201a8"
             ],
             [
              0.3333333333333333,
              "#9c179e"
             ],
             [
              0.4444444444444444,
              "#bd3786"
             ],
             [
              0.5555555555555556,
              "#d8576b"
             ],
             [
              0.6666666666666666,
              "#ed7953"
             ],
             [
              0.7777777777777778,
              "#fb9f3a"
             ],
             [
              0.8888888888888888,
              "#fdca26"
             ],
             [
              1,
              "#f0f921"
             ]
            ],
            "type": "histogram2d"
           }
          ],
          "histogram2dcontour": [
           {
            "colorbar": {
             "outlinewidth": 0,
             "ticks": ""
            },
            "colorscale": [
             [
              0,
              "#0d0887"
             ],
             [
              0.1111111111111111,
              "#46039f"
             ],
             [
              0.2222222222222222,
              "#7201a8"
             ],
             [
              0.3333333333333333,
              "#9c179e"
             ],
             [
              0.4444444444444444,
              "#bd3786"
             ],
             [
              0.5555555555555556,
              "#d8576b"
             ],
             [
              0.6666666666666666,
              "#ed7953"
             ],
             [
              0.7777777777777778,
              "#fb9f3a"
             ],
             [
              0.8888888888888888,
              "#fdca26"
             ],
             [
              1,
              "#f0f921"
             ]
            ],
            "type": "histogram2dcontour"
           }
          ],
          "mesh3d": [
           {
            "colorbar": {
             "outlinewidth": 0,
             "ticks": ""
            },
            "type": "mesh3d"
           }
          ],
          "parcoords": [
           {
            "line": {
             "colorbar": {
              "outlinewidth": 0,
              "ticks": ""
             }
            },
            "type": "parcoords"
           }
          ],
          "pie": [
           {
            "automargin": true,
            "type": "pie"
           }
          ],
          "scatter": [
           {
            "fillpattern": {
             "fillmode": "overlay",
             "size": 10,
             "solidity": 0.2
            },
            "type": "scatter"
           }
          ],
          "scatter3d": [
           {
            "line": {
             "colorbar": {
              "outlinewidth": 0,
              "ticks": ""
             }
            },
            "marker": {
             "colorbar": {
              "outlinewidth": 0,
              "ticks": ""
             }
            },
            "type": "scatter3d"
           }
          ],
          "scattercarpet": [
           {
            "marker": {
             "colorbar": {
              "outlinewidth": 0,
              "ticks": ""
             }
            },
            "type": "scattercarpet"
           }
          ],
          "scattergeo": [
           {
            "marker": {
             "colorbar": {
              "outlinewidth": 0,
              "ticks": ""
             }
            },
            "type": "scattergeo"
           }
          ],
          "scattergl": [
           {
            "marker": {
             "colorbar": {
              "outlinewidth": 0,
              "ticks": ""
             }
            },
            "type": "scattergl"
           }
          ],
          "scattermapbox": [
           {
            "marker": {
             "colorbar": {
              "outlinewidth": 0,
              "ticks": ""
             }
            },
            "type": "scattermapbox"
           }
          ],
          "scatterpolar": [
           {
            "marker": {
             "colorbar": {
              "outlinewidth": 0,
              "ticks": ""
             }
            },
            "type": "scatterpolar"
           }
          ],
          "scatterpolargl": [
           {
            "marker": {
             "colorbar": {
              "outlinewidth": 0,
              "ticks": ""
             }
            },
            "type": "scatterpolargl"
           }
          ],
          "scatterternary": [
           {
            "marker": {
             "colorbar": {
              "outlinewidth": 0,
              "ticks": ""
             }
            },
            "type": "scatterternary"
           }
          ],
          "surface": [
           {
            "colorbar": {
             "outlinewidth": 0,
             "ticks": ""
            },
            "colorscale": [
             [
              0,
              "#0d0887"
             ],
             [
              0.1111111111111111,
              "#46039f"
             ],
             [
              0.2222222222222222,
              "#7201a8"
             ],
             [
              0.3333333333333333,
              "#9c179e"
             ],
             [
              0.4444444444444444,
              "#bd3786"
             ],
             [
              0.5555555555555556,
              "#d8576b"
             ],
             [
              0.6666666666666666,
              "#ed7953"
             ],
             [
              0.7777777777777778,
              "#fb9f3a"
             ],
             [
              0.8888888888888888,
              "#fdca26"
             ],
             [
              1,
              "#f0f921"
             ]
            ],
            "type": "surface"
           }
          ],
          "table": [
           {
            "cells": {
             "fill": {
              "color": "#EBF0F8"
             },
             "line": {
              "color": "white"
             }
            },
            "header": {
             "fill": {
              "color": "#C8D4E3"
             },
             "line": {
              "color": "white"
             }
            },
            "type": "table"
           }
          ]
         },
         "layout": {
          "annotationdefaults": {
           "arrowcolor": "#2a3f5f",
           "arrowhead": 0,
           "arrowwidth": 1
          },
          "autotypenumbers": "strict",
          "coloraxis": {
           "colorbar": {
            "outlinewidth": 0,
            "ticks": ""
           }
          },
          "colorscale": {
           "diverging": [
            [
             0,
             "#8e0152"
            ],
            [
             0.1,
             "#c51b7d"
            ],
            [
             0.2,
             "#de77ae"
            ],
            [
             0.3,
             "#f1b6da"
            ],
            [
             0.4,
             "#fde0ef"
            ],
            [
             0.5,
             "#f7f7f7"
            ],
            [
             0.6,
             "#e6f5d0"
            ],
            [
             0.7,
             "#b8e186"
            ],
            [
             0.8,
             "#7fbc41"
            ],
            [
             0.9,
             "#4d9221"
            ],
            [
             1,
             "#276419"
            ]
           ],
           "sequential": [
            [
             0,
             "#0d0887"
            ],
            [
             0.1111111111111111,
             "#46039f"
            ],
            [
             0.2222222222222222,
             "#7201a8"
            ],
            [
             0.3333333333333333,
             "#9c179e"
            ],
            [
             0.4444444444444444,
             "#bd3786"
            ],
            [
             0.5555555555555556,
             "#d8576b"
            ],
            [
             0.6666666666666666,
             "#ed7953"
            ],
            [
             0.7777777777777778,
             "#fb9f3a"
            ],
            [
             0.8888888888888888,
             "#fdca26"
            ],
            [
             1,
             "#f0f921"
            ]
           ],
           "sequentialminus": [
            [
             0,
             "#0d0887"
            ],
            [
             0.1111111111111111,
             "#46039f"
            ],
            [
             0.2222222222222222,
             "#7201a8"
            ],
            [
             0.3333333333333333,
             "#9c179e"
            ],
            [
             0.4444444444444444,
             "#bd3786"
            ],
            [
             0.5555555555555556,
             "#d8576b"
            ],
            [
             0.6666666666666666,
             "#ed7953"
            ],
            [
             0.7777777777777778,
             "#fb9f3a"
            ],
            [
             0.8888888888888888,
             "#fdca26"
            ],
            [
             1,
             "#f0f921"
            ]
           ]
          },
          "colorway": [
           "#636efa",
           "#EF553B",
           "#00cc96",
           "#ab63fa",
           "#FFA15A",
           "#19d3f3",
           "#FF6692",
           "#B6E880",
           "#FF97FF",
           "#FECB52"
          ],
          "font": {
           "color": "#2a3f5f"
          },
          "geo": {
           "bgcolor": "white",
           "lakecolor": "white",
           "landcolor": "#E5ECF6",
           "showlakes": true,
           "showland": true,
           "subunitcolor": "white"
          },
          "hoverlabel": {
           "align": "left"
          },
          "hovermode": "closest",
          "mapbox": {
           "style": "light"
          },
          "paper_bgcolor": "white",
          "plot_bgcolor": "#E5ECF6",
          "polar": {
           "angularaxis": {
            "gridcolor": "white",
            "linecolor": "white",
            "ticks": ""
           },
           "bgcolor": "#E5ECF6",
           "radialaxis": {
            "gridcolor": "white",
            "linecolor": "white",
            "ticks": ""
           }
          },
          "scene": {
           "xaxis": {
            "backgroundcolor": "#E5ECF6",
            "gridcolor": "white",
            "gridwidth": 2,
            "linecolor": "white",
            "showbackground": true,
            "ticks": "",
            "zerolinecolor": "white"
           },
           "yaxis": {
            "backgroundcolor": "#E5ECF6",
            "gridcolor": "white",
            "gridwidth": 2,
            "linecolor": "white",
            "showbackground": true,
            "ticks": "",
            "zerolinecolor": "white"
           },
           "zaxis": {
            "backgroundcolor": "#E5ECF6",
            "gridcolor": "white",
            "gridwidth": 2,
            "linecolor": "white",
            "showbackground": true,
            "ticks": "",
            "zerolinecolor": "white"
           }
          },
          "shapedefaults": {
           "line": {
            "color": "#2a3f5f"
           }
          },
          "ternary": {
           "aaxis": {
            "gridcolor": "white",
            "linecolor": "white",
            "ticks": ""
           },
           "baxis": {
            "gridcolor": "white",
            "linecolor": "white",
            "ticks": ""
           },
           "bgcolor": "#E5ECF6",
           "caxis": {
            "gridcolor": "white",
            "linecolor": "white",
            "ticks": ""
           }
          },
          "title": {
           "x": 0.05
          },
          "xaxis": {
           "automargin": true,
           "gridcolor": "white",
           "linecolor": "white",
           "ticks": "",
           "title": {
            "standoff": 15
           },
           "zerolinecolor": "white",
           "zerolinewidth": 2
          },
          "yaxis": {
           "automargin": true,
           "gridcolor": "white",
           "linecolor": "white",
           "ticks": "",
           "title": {
            "standoff": 15
           },
           "zerolinecolor": "white",
           "zerolinewidth": 2
          }
         }
        },
        "title": {
         "text": "<b><span style=\"font-size:20px\">Distribuição das notas das turmas de Data Visualization</span></b><br>100 alunos cada"
        },
        "violinmode": "overlay",
        "width": 1000,
        "xaxis": {
         "anchor": "y",
         "categoryarray": [
          "Turma 1",
          "Turma 2",
          "Turma 3"
         ],
         "categoryorder": "array",
         "domain": [
          0,
          1
         ],
         "title": {
          "text": ""
         }
        },
        "yaxis": {
         "anchor": "x",
         "domain": [
          0,
          1
         ],
         "title": {
          "text": "Notas (0-100)"
         }
        }
       }
      }
     },
     "metadata": {},
     "output_type": "display_data"
    }
   ],
   "source": [
    "fig = px.violin(df, y='Nota', x='Turma', color='Turma', box=True)\n",
    "\n",
    "# Remover a legenda\n",
    "fig.update_layout(\n",
    "    title='<b><span style=\"font-size:20px\">Distribuição das notas das turmas de Data Visualization</span></b><br>100 alunos cada',\n",
    "    showlegend=False,\n",
    "    height=400,  \n",
    "    width=1000    \n",
    ")\n",
    "\n",
    "# Remover o rótulo do eixo x\n",
    "fig.update_xaxes(title_text='')\n",
    "fig.update_yaxes(title_text='Notas (0-100)')\n",
    "\n",
    "fig.show()"
   ]
  },
  {
   "cell_type": "markdown",
   "metadata": {},
   "source": [
    "O gráfico acima mostra a distribuição dos valores entre três turmas do curso DataViz: **Turma 1**, **Turma 2** e **Turma 3**.\n",
    "\n",
    "A **Turma 1** apresenta uma distribuição aproximadamente normal, com mediana de 73 e uma variabilidade moderada.\n",
    "\n",
    "A **Turma 2** mostra uma distribuição mais estreita, com a mediana de 80 e uma variabilidade menor.\n",
    "\n",
    "Enquanto isso, a **Turma 3** possui uma distribuição mais assimétrica, com mediana de 70 e uma variabilidade maior em relação aos outros grupos."
   ]
  }
 ],
 "metadata": {
  "kernelspec": {
   "display_name": "base",
   "language": "python",
   "name": "python3"
  },
  "language_info": {
   "codemirror_mode": {
    "name": "ipython",
    "version": 3
   },
   "file_extension": ".py",
   "mimetype": "text/x-python",
   "name": "python",
   "nbconvert_exporter": "python",
   "pygments_lexer": "ipython3",
   "version": "3.9.13"
  }
 },
 "nbformat": 4,
 "nbformat_minor": 2
}
